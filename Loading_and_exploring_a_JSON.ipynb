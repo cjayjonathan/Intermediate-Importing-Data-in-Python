{
  "nbformat": 4,
  "nbformat_minor": 0,
  "metadata": {
    "colab": {
      "name": "Loading and exploring a JSON.ipynb",
      "provenance": [],
      "authorship_tag": "ABX9TyPuLW8XNfCFhg+wkkxP0L32",
      "include_colab_link": true
    },
    "kernelspec": {
      "name": "python3",
      "display_name": "Python 3"
    },
    "language_info": {
      "name": "python"
    }
  },
  "cells": [
    {
      "cell_type": "markdown",
      "metadata": {
        "id": "view-in-github",
        "colab_type": "text"
      },
      "source": [
        "<a href=\"https://colab.research.google.com/github/cjayjonathan/Intermediate-Importing-Data-in-Python/blob/main/Loading_and_exploring_a_JSON.ipynb\" target=\"_parent\"><img src=\"https://colab.research.google.com/assets/colab-badge.svg\" alt=\"Open In Colab\"/></a>"
      ]
    },
    {
      "cell_type": "code",
      "execution_count": null,
      "metadata": {
        "id": "FZAK2lbW437I"
      },
      "outputs": [],
      "source": [
        "# Load JSON: json_data\n",
        "with open(\"a_movie.json\") as json_file:\n",
        "    json_data = json.load(json_file)\n",
        "\n",
        "# Print each key-value pair in json_data\n",
        "for k in json_data.keys():\n",
        "    print(k + ': ', json_data[k])"
      ]
    }
  ]
}