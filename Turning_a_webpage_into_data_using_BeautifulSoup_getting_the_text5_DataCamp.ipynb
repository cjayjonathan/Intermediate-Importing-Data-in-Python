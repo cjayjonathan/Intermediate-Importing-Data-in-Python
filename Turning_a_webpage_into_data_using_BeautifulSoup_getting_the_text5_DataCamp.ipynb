{
  "nbformat": 4,
  "nbformat_minor": 0,
  "metadata": {
    "colab": {
      "name": "Turning a webpage into data using BeautifulSoup: getting the text5 DataCamp.ipynb",
      "provenance": [],
      "authorship_tag": "ABX9TyPRir8JVs7k7gNb0LNr6K4J",
      "include_colab_link": true
    },
    "kernelspec": {
      "name": "python3",
      "display_name": "Python 3"
    },
    "language_info": {
      "name": "python"
    }
  },
  "cells": [
    {
      "cell_type": "markdown",
      "metadata": {
        "id": "view-in-github",
        "colab_type": "text"
      },
      "source": [
        "<a href=\"https://colab.research.google.com/github/cjayjonathan/Intermediate-Importing-Data-in-Python/blob/main/Turning_a_webpage_into_data_using_BeautifulSoup_getting_the_text5_DataCamp.ipynb\" target=\"_parent\"><img src=\"https://colab.research.google.com/assets/colab-badge.svg\" alt=\"Open In Colab\"/></a>"
      ]
    },
    {
      "cell_type": "code",
      "execution_count": 1,
      "metadata": {
        "colab": {
          "base_uri": "https://localhost:8080/"
        },
        "id": "g18TRSlz1WRF",
        "outputId": "53741e29-16ff-4438-9a42-52312d91162f"
      },
      "outputs": [
        {
          "output_type": "stream",
          "name": "stdout",
          "text": [
            "<title>Guido's Personal Home Page</title>\n",
            "\n",
            "\n",
            "Guido's Personal Home Page\n",
            "\n",
            "\n",
            "\n",
            "\n",
            "\n",
            "Guido van Rossum - Personal Home Page\n",
            "\n",
            "\n",
            "\"Gawky and proud of it.\"\n",
            "Who I Am\n",
            "Read\n",
            "my \"King's\n",
            "Day Speech\" for some inspiration.\n",
            "\n",
            "I am the author of the Python\n",
            "programming language.  See also my resume\n",
            "and my publications list, a brief bio, assorted writings, presentations and interviews (all about Python), some\n",
            "pictures of me,\n",
            "my new blog, and\n",
            "my old\n",
            "blog on Artima.com.  I am\n",
            "@gvanrossum on Twitter.\n",
            "\n",
            "I am currently a Distinguished Engineer at Microsoft.\n",
            "I have worked for Dropbox, Google, Elemental Security, Zope\n",
            "Corporation, BeOpen.com, CNRI, CWI, and SARA.  (See\n",
            "my resume.)  I created Python while at CWI.\n",
            "\n",
            "How to Reach Me\n",
            "You can send email for me to guido (at) python.org.\n",
            "I read everything sent there, but I receive too much email to respond\n",
            "to everything.\n",
            "\n",
            "My Name\n",
            "My name often poses difficulties for Americans.\n",
            "\n",
            "Pronunciation: in Dutch, the \"G\" in Guido is a hard G,\n",
            "pronounced roughly like the \"ch\" in Scottish \"loch\".  (Listen to the\n",
            "sound clip.)  However, if you're\n",
            "American, you may also pronounce it as the Italian \"Guido\".  I'm not\n",
            "too worried about the associations with mob assassins that some people\n",
            "have. :-)\n",
            "\n",
            "Spelling: my last name is two words, and I'd like to keep it\n",
            "that way, the spelling on some of my credit cards notwithstanding.\n",
            "Dutch spelling rules dictate that when used in combination with my\n",
            "first name, \"van\" is not capitalized: \"Guido van Rossum\".  But when my\n",
            "last name is used alone to refer to me, it is capitalized, for\n",
            "example: \"As usual, Van Rossum was right.\"\n",
            "\n",
            "Alphabetization: in America, I show up in the alphabet under\n",
            "\"V\".  But in Europe, I show up under \"R\".  And some of my friends put\n",
            "me under \"G\" in their address book...\n",
            "\n",
            "\n",
            "More Hyperlinks\n",
            "\n",
            "Here's a collection of essays relating to Python\n",
            "that I've written, including the foreword I wrote for Mark Lutz' book\n",
            "\"Programming Python\".\n",
            "I own the official \n",
            "Python license.\n",
            "\n",
            "The Audio File Formats FAQ\n",
            "I was the original creator and maintainer of the Audio File Formats\n",
            "FAQ.  It is now maintained by Chris Bagwell\n",
            "at http://www.cnpbagwell.com/audio-faq.  And here is a link to\n",
            "SOX, to which I contributed\n",
            "some early code.\n",
            "\n",
            "\n",
            "\n",
            "\n",
            "\"On the Internet, nobody knows you're\n",
            "a dog.\"\n",
            "\n",
            "\n",
            "\n"
          ]
        }
      ],
      "source": [
        "# Import packages\n",
        "import requests\n",
        "from bs4 import BeautifulSoup\n",
        "\n",
        "# Specify url: url\n",
        "url = 'https://www.python.org/~guido/'\n",
        "\n",
        "# Package the request, send the request and catch the response: r\n",
        "r = requests.get(url)\n",
        "\n",
        "# Extract the response as html: html_doc\n",
        "html_doc = r.text\n",
        "\n",
        "# Create a BeautifulSoup object from the HTML: soup\n",
        "soup = BeautifulSoup(html_doc)\n",
        "\n",
        "# Get the title of Guido's webpage: guido_title\n",
        "guido_title = soup.title\n",
        "\n",
        "# Print the title of Guido's webpage to the shell\n",
        "print(guido_title)\n",
        "\n",
        "# Get Guido's text: guido_text\n",
        "guido_text = soup.get_text()\n",
        "\n",
        "# Print Guido's text to the shell\n",
        "print(guido_text)"
      ]
    }
  ]
}