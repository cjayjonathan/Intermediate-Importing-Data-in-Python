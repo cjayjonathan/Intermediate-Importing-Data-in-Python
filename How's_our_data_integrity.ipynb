{
  "nbformat": 4,
  "nbformat_minor": 0,
  "metadata": {
    "colab": {
      "name": "How's our data integrity.ipynb",
      "provenance": [],
      "authorship_tag": "ABX9TyPmFPiFnY66tRNnyxAm5r0H",
      "include_colab_link": true
    },
    "kernelspec": {
      "name": "python3",
      "display_name": "Python 3"
    },
    "language_info": {
      "name": "python"
    }
  },
  "cells": [
    {
      "cell_type": "markdown",
      "metadata": {
        "id": "view-in-github",
        "colab_type": "text"
      },
      "source": [
        "<a href=\"https://colab.research.google.com/github/cjayjonathan/Intermediate-Importing-Data-in-Python/blob/main/How's_our_data_integrity.ipynb\" target=\"_parent\"><img src=\"https://colab.research.google.com/assets/colab-badge.svg\" alt=\"Open In Colab\"/></a>"
      ]
    },
    {
      "cell_type": "code",
      "execution_count": null,
      "metadata": {
        "id": "eBYDS_fF6j2v"
      },
      "outputs": [],
      "source": [
        "# Store fund columns to sum against\n",
        "fund_columns = ['fund_A', 'fund_B', 'fund_C', 'fund_D']\n",
        "\n",
        "# Find rows where fund_columns row sum == inv_amount\n",
        "inv_equ = banking[fund_columns].sum(axis=1) == banking['inv_amount']\n",
        "\n",
        "# Store consistent and inconsistent data\n",
        "consistent_inv = banking[inv_equ]\n",
        "inconsistent_inv = banking[~inv_equ]\n",
        "\n",
        "# Store consistent and inconsistent data\n",
        "print(\"Number of inconsistent investments: \", inconsistent_inv.shape[0])"
      ]
    },
    {
      "cell_type": "code",
      "source": [
        "# Store today's date and find ages\n",
        "today = dt.date.today()\n",
        "ages_manual = today.year - banking['birth_date'].dt.year\n",
        "\n",
        "# Find rows where age column == ages_manual\n",
        "age_equ = banking['age'] == ages_manual\n",
        "\n",
        "# Store consistent and inconsistent data\n",
        "consistent_ages = banking[age_equ]\n",
        "inconsistent_ages = banking[~age_equ]\n",
        "\n",
        "# Store consistent and inconsistent data\n",
        "print(\"Number of inconsistent ages: \", inconsistent_ages.shape[0])"
      ],
      "metadata": {
        "id": "vV8QJuz8e2NP"
      },
      "execution_count": null,
      "outputs": []
    }
  ]
}