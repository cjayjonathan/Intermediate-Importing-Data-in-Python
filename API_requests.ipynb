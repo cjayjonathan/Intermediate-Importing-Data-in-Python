{
  "nbformat": 4,
  "nbformat_minor": 0,
  "metadata": {
    "colab": {
      "name": "API requests.ipynb",
      "provenance": [],
      "authorship_tag": "ABX9TyMdG7fqn81dFcCxw6iSmXNv",
      "include_colab_link": true
    },
    "kernelspec": {
      "name": "python3",
      "display_name": "Python 3"
    },
    "language_info": {
      "name": "python"
    }
  },
  "cells": [
    {
      "cell_type": "markdown",
      "metadata": {
        "id": "view-in-github",
        "colab_type": "text"
      },
      "source": [
        "<a href=\"https://colab.research.google.com/github/cjayjonathan/Intermediate-Importing-Data-in-Python/blob/main/API_requests.ipynb\" target=\"_parent\"><img src=\"https://colab.research.google.com/assets/colab-badge.svg\" alt=\"Open In Colab\"/></a>"
      ]
    },
    {
      "cell_type": "code",
      "execution_count": null,
      "metadata": {
        "id": "-iqw7j-H8EuO"
      },
      "outputs": [],
      "source": [
        "# Import requests package\n",
        "import requests\n",
        "\n",
        "# Assign URL to variable: url\n",
        "url = 'http://www.omdbapi.com/?apikey=72bc447a&t=the+social+network'\n",
        "\n",
        "# Package the request, send the request and catch the response: r\n",
        "r = requests.get(url)\n",
        "\n",
        "# Print the text of the response\n",
        "print(r.text)\n"
      ]
    }
  ]
}