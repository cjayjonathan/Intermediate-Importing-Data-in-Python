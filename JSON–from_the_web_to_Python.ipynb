{
  "nbformat": 4,
  "nbformat_minor": 0,
  "metadata": {
    "colab": {
      "name": "JSON–from the web to Python.ipynb",
      "provenance": [],
      "authorship_tag": "ABX9TyPpp/N/oFDHym4V5DGdZeST",
      "include_colab_link": true
    },
    "kernelspec": {
      "name": "python3",
      "display_name": "Python 3"
    },
    "language_info": {
      "name": "python"
    }
  },
  "cells": [
    {
      "cell_type": "markdown",
      "metadata": {
        "id": "view-in-github",
        "colab_type": "text"
      },
      "source": [
        "<a href=\"https://colab.research.google.com/github/cjayjonathan/Intermediate-Importing-Data-in-Python/blob/main/JSON%E2%80%93from_the_web_to_Python.ipynb\" target=\"_parent\"><img src=\"https://colab.research.google.com/assets/colab-badge.svg\" alt=\"Open In Colab\"/></a>"
      ]
    },
    {
      "cell_type": "code",
      "execution_count": null,
      "metadata": {
        "id": "dvcmqh1nA3Zg"
      },
      "outputs": [],
      "source": [
        "# Import package\n",
        "import requests\n",
        "\n",
        "# Assign URL to variable: url\n",
        "url = 'http://www.omdbapi.com/?apikey=72bc447a&t=social+network'\n",
        "\n",
        "# Package the request, send the request and catch the response: r\n",
        "r = requests.get(url)\n",
        "\n",
        "# Decode the JSON data into a dictionary: json_data\n",
        "json_data = r.json()\n",
        "\n",
        "# Print each key-value pair in json_data\n",
        "for k in json_data.keys():\n",
        "    print(k + ': ', json_data[k])\n"
      ]
    }
  ]
}