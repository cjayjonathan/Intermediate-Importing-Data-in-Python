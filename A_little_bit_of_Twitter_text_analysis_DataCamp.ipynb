{
  "nbformat": 4,
  "nbformat_minor": 0,
  "metadata": {
    "colab": {
      "name": "A little bit of Twitter text analysis DataCamp.ipynb",
      "provenance": [],
      "authorship_tag": "ABX9TyOUd8YdTfxNLypA0bmxM+MR",
      "include_colab_link": true
    },
    "kernelspec": {
      "name": "python3",
      "display_name": "Python 3"
    },
    "language_info": {
      "name": "python"
    }
  },
  "cells": [
    {
      "cell_type": "markdown",
      "metadata": {
        "id": "view-in-github",
        "colab_type": "text"
      },
      "source": [
        "<a href=\"https://colab.research.google.com/github/cjayjonathan/Intermediate-Importing-Data-in-Python/blob/main/A_little_bit_of_Twitter_text_analysis_DataCamp.ipynb\" target=\"_parent\"><img src=\"https://colab.research.google.com/assets/colab-badge.svg\" alt=\"Open In Colab\"/></a>"
      ]
    },
    {
      "cell_type": "code",
      "execution_count": null,
      "metadata": {
        "id": "Cf_pnQFZkuwm"
      },
      "outputs": [],
      "source": [
        "# Initialize list to store tweet counts\n",
        "[clinton, trump, sanders, cruz] = [0, 0, 0, 0]\n",
        "\n",
        "# Iterate through df, counting the number of tweets in which\n",
        "# each candidate is mentioned\n",
        "for index, row in df.iterrows():\n",
        "    clinton += word_in_text('clinton', row['text'])\n",
        "    trump += word_in_text('trump', row['text'])\n",
        "    sanders += word_in_text('sanders', row['text'])\n",
        "    cruz += word_in_text('cruz', row['text'])\n"
      ]
    }
  ]
}